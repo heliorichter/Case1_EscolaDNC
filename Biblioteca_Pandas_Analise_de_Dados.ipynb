{
  "nbformat": 4,
  "nbformat_minor": 0,
  "metadata": {
    "colab": {
      "provenance": [],
      "authorship_tag": "ABX9TyNyzS/irl4lqEXU7TEBZwXb",
      "include_colab_link": true
    },
    "kernelspec": {
      "name": "python3",
      "display_name": "Python 3"
    },
    "language_info": {
      "name": "python"
    }
  },
  "cells": [
    {
      "cell_type": "markdown",
      "metadata": {
        "id": "view-in-github",
        "colab_type": "text"
      },
      "source": [
        "<a href=\"https://colab.research.google.com/github/heliorichter/biblioteca_pandas/blob/main/Biblioteca_Pandas_Analise_de_Dados.ipynb\" target=\"_parent\"><img src=\"https://colab.research.google.com/assets/colab-badge.svg\" alt=\"Open In Colab\"/></a>"
      ]
    },
    {
      "cell_type": "code",
      "execution_count": null,
      "metadata": {
        "id": "t5mo0lftpLYJ"
      },
      "outputs": [],
      "source": [
        "import pandas as pd\n",
        "import seaborn as sns"
      ]
    },
    {
      "cell_type": "code",
      "source": [
        "vendas = pd.read_excel('varejo.xlsx')\n",
        "vendas.head()"
      ],
      "metadata": {
        "colab": {
          "base_uri": "https://localhost:8080/",
          "height": 206
        },
        "id": "PxWDpDzIsLkG",
        "outputId": "963d2e7b-6ebb-4d07-b8d1-c4c9532514b5"
      },
      "execution_count": null,
      "outputs": [
        {
          "output_type": "execute_result",
          "data": {
            "text/plain": [
              "   idcompra idcanalvenda bandeira       Data     Preço  Preço_com_frete  \\\n",
              "0    393835       Mobile        A 2023-03-05  1582.560          791.280   \n",
              "1    411885       Mobile        A 2023-03-17   679.200          679.200   \n",
              "2    437305       Mobile        A 2023-03-06    35.920           37.512   \n",
              "3    440055          APP        A 2023-01-13  2239.416         2239.416   \n",
              "4    455795       Mobile        B 2023-03-31  1743.200         1785.112   \n",
              "\n",
              "       Nome_Departamento estado  cliente_Log  \n",
              "0  Telefones e Celulares     SP        15042  \n",
              "1                Tablets     SP        17590  \n",
              "2                  Bebes     SP        15478  \n",
              "3       TVs e Acessorios     SP         2933  \n",
              "4        Esporte e Lazer     RS        19790  "
            ],
            "text/html": [
              "\n",
              "  <div id=\"df-1a87dec7-aa92-496c-a225-4a947fdd8a2f\" class=\"colab-df-container\">\n",
              "    <div>\n",
              "<style scoped>\n",
              "    .dataframe tbody tr th:only-of-type {\n",
              "        vertical-align: middle;\n",
              "    }\n",
              "\n",
              "    .dataframe tbody tr th {\n",
              "        vertical-align: top;\n",
              "    }\n",
              "\n",
              "    .dataframe thead th {\n",
              "        text-align: right;\n",
              "    }\n",
              "</style>\n",
              "<table border=\"1\" class=\"dataframe\">\n",
              "  <thead>\n",
              "    <tr style=\"text-align: right;\">\n",
              "      <th></th>\n",
              "      <th>idcompra</th>\n",
              "      <th>idcanalvenda</th>\n",
              "      <th>bandeira</th>\n",
              "      <th>Data</th>\n",
              "      <th>Preço</th>\n",
              "      <th>Preço_com_frete</th>\n",
              "      <th>Nome_Departamento</th>\n",
              "      <th>estado</th>\n",
              "      <th>cliente_Log</th>\n",
              "    </tr>\n",
              "  </thead>\n",
              "  <tbody>\n",
              "    <tr>\n",
              "      <th>0</th>\n",
              "      <td>393835</td>\n",
              "      <td>Mobile</td>\n",
              "      <td>A</td>\n",
              "      <td>2023-03-05</td>\n",
              "      <td>1582.560</td>\n",
              "      <td>791.280</td>\n",
              "      <td>Telefones e Celulares</td>\n",
              "      <td>SP</td>\n",
              "      <td>15042</td>\n",
              "    </tr>\n",
              "    <tr>\n",
              "      <th>1</th>\n",
              "      <td>411885</td>\n",
              "      <td>Mobile</td>\n",
              "      <td>A</td>\n",
              "      <td>2023-03-17</td>\n",
              "      <td>679.200</td>\n",
              "      <td>679.200</td>\n",
              "      <td>Tablets</td>\n",
              "      <td>SP</td>\n",
              "      <td>17590</td>\n",
              "    </tr>\n",
              "    <tr>\n",
              "      <th>2</th>\n",
              "      <td>437305</td>\n",
              "      <td>Mobile</td>\n",
              "      <td>A</td>\n",
              "      <td>2023-03-06</td>\n",
              "      <td>35.920</td>\n",
              "      <td>37.512</td>\n",
              "      <td>Bebes</td>\n",
              "      <td>SP</td>\n",
              "      <td>15478</td>\n",
              "    </tr>\n",
              "    <tr>\n",
              "      <th>3</th>\n",
              "      <td>440055</td>\n",
              "      <td>APP</td>\n",
              "      <td>A</td>\n",
              "      <td>2023-01-13</td>\n",
              "      <td>2239.416</td>\n",
              "      <td>2239.416</td>\n",
              "      <td>TVs e Acessorios</td>\n",
              "      <td>SP</td>\n",
              "      <td>2933</td>\n",
              "    </tr>\n",
              "    <tr>\n",
              "      <th>4</th>\n",
              "      <td>455795</td>\n",
              "      <td>Mobile</td>\n",
              "      <td>B</td>\n",
              "      <td>2023-03-31</td>\n",
              "      <td>1743.200</td>\n",
              "      <td>1785.112</td>\n",
              "      <td>Esporte e Lazer</td>\n",
              "      <td>RS</td>\n",
              "      <td>19790</td>\n",
              "    </tr>\n",
              "  </tbody>\n",
              "</table>\n",
              "</div>\n",
              "    <div class=\"colab-df-buttons\">\n",
              "\n",
              "  <div class=\"colab-df-container\">\n",
              "    <button class=\"colab-df-convert\" onclick=\"convertToInteractive('df-1a87dec7-aa92-496c-a225-4a947fdd8a2f')\"\n",
              "            title=\"Convert this dataframe to an interactive table.\"\n",
              "            style=\"display:none;\">\n",
              "\n",
              "  <svg xmlns=\"http://www.w3.org/2000/svg\" height=\"24px\" viewBox=\"0 -960 960 960\">\n",
              "    <path d=\"M120-120v-720h720v720H120Zm60-500h600v-160H180v160Zm220 220h160v-160H400v160Zm0 220h160v-160H400v160ZM180-400h160v-160H180v160Zm440 0h160v-160H620v160ZM180-180h160v-160H180v160Zm440 0h160v-160H620v160Z\"/>\n",
              "  </svg>\n",
              "    </button>\n",
              "\n",
              "  <style>\n",
              "    .colab-df-container {\n",
              "      display:flex;\n",
              "      gap: 12px;\n",
              "    }\n",
              "\n",
              "    .colab-df-convert {\n",
              "      background-color: #E8F0FE;\n",
              "      border: none;\n",
              "      border-radius: 50%;\n",
              "      cursor: pointer;\n",
              "      display: none;\n",
              "      fill: #1967D2;\n",
              "      height: 32px;\n",
              "      padding: 0 0 0 0;\n",
              "      width: 32px;\n",
              "    }\n",
              "\n",
              "    .colab-df-convert:hover {\n",
              "      background-color: #E2EBFA;\n",
              "      box-shadow: 0px 1px 2px rgba(60, 64, 67, 0.3), 0px 1px 3px 1px rgba(60, 64, 67, 0.15);\n",
              "      fill: #174EA6;\n",
              "    }\n",
              "\n",
              "    .colab-df-buttons div {\n",
              "      margin-bottom: 4px;\n",
              "    }\n",
              "\n",
              "    [theme=dark] .colab-df-convert {\n",
              "      background-color: #3B4455;\n",
              "      fill: #D2E3FC;\n",
              "    }\n",
              "\n",
              "    [theme=dark] .colab-df-convert:hover {\n",
              "      background-color: #434B5C;\n",
              "      box-shadow: 0px 1px 3px 1px rgba(0, 0, 0, 0.15);\n",
              "      filter: drop-shadow(0px 1px 2px rgba(0, 0, 0, 0.3));\n",
              "      fill: #FFFFFF;\n",
              "    }\n",
              "  </style>\n",
              "\n",
              "    <script>\n",
              "      const buttonEl =\n",
              "        document.querySelector('#df-1a87dec7-aa92-496c-a225-4a947fdd8a2f button.colab-df-convert');\n",
              "      buttonEl.style.display =\n",
              "        google.colab.kernel.accessAllowed ? 'block' : 'none';\n",
              "\n",
              "      async function convertToInteractive(key) {\n",
              "        const element = document.querySelector('#df-1a87dec7-aa92-496c-a225-4a947fdd8a2f');\n",
              "        const dataTable =\n",
              "          await google.colab.kernel.invokeFunction('convertToInteractive',\n",
              "                                                    [key], {});\n",
              "        if (!dataTable) return;\n",
              "\n",
              "        const docLinkHtml = 'Like what you see? Visit the ' +\n",
              "          '<a target=\"_blank\" href=https://colab.research.google.com/notebooks/data_table.ipynb>data table notebook</a>'\n",
              "          + ' to learn more about interactive tables.';\n",
              "        element.innerHTML = '';\n",
              "        dataTable['output_type'] = 'display_data';\n",
              "        await google.colab.output.renderOutput(dataTable, element);\n",
              "        const docLink = document.createElement('div');\n",
              "        docLink.innerHTML = docLinkHtml;\n",
              "        element.appendChild(docLink);\n",
              "      }\n",
              "    </script>\n",
              "  </div>\n",
              "\n",
              "\n",
              "<div id=\"df-9dbbcee0-d5db-4473-a142-af87ef5431e6\">\n",
              "  <button class=\"colab-df-quickchart\" onclick=\"quickchart('df-9dbbcee0-d5db-4473-a142-af87ef5431e6')\"\n",
              "            title=\"Suggest charts\"\n",
              "            style=\"display:none;\">\n",
              "\n",
              "<svg xmlns=\"http://www.w3.org/2000/svg\" height=\"24px\"viewBox=\"0 0 24 24\"\n",
              "     width=\"24px\">\n",
              "    <g>\n",
              "        <path d=\"M19 3H5c-1.1 0-2 .9-2 2v14c0 1.1.9 2 2 2h14c1.1 0 2-.9 2-2V5c0-1.1-.9-2-2-2zM9 17H7v-7h2v7zm4 0h-2V7h2v10zm4 0h-2v-4h2v4z\"/>\n",
              "    </g>\n",
              "</svg>\n",
              "  </button>\n",
              "\n",
              "<style>\n",
              "  .colab-df-quickchart {\n",
              "      --bg-color: #E8F0FE;\n",
              "      --fill-color: #1967D2;\n",
              "      --hover-bg-color: #E2EBFA;\n",
              "      --hover-fill-color: #174EA6;\n",
              "      --disabled-fill-color: #AAA;\n",
              "      --disabled-bg-color: #DDD;\n",
              "  }\n",
              "\n",
              "  [theme=dark] .colab-df-quickchart {\n",
              "      --bg-color: #3B4455;\n",
              "      --fill-color: #D2E3FC;\n",
              "      --hover-bg-color: #434B5C;\n",
              "      --hover-fill-color: #FFFFFF;\n",
              "      --disabled-bg-color: #3B4455;\n",
              "      --disabled-fill-color: #666;\n",
              "  }\n",
              "\n",
              "  .colab-df-quickchart {\n",
              "    background-color: var(--bg-color);\n",
              "    border: none;\n",
              "    border-radius: 50%;\n",
              "    cursor: pointer;\n",
              "    display: none;\n",
              "    fill: var(--fill-color);\n",
              "    height: 32px;\n",
              "    padding: 0;\n",
              "    width: 32px;\n",
              "  }\n",
              "\n",
              "  .colab-df-quickchart:hover {\n",
              "    background-color: var(--hover-bg-color);\n",
              "    box-shadow: 0 1px 2px rgba(60, 64, 67, 0.3), 0 1px 3px 1px rgba(60, 64, 67, 0.15);\n",
              "    fill: var(--button-hover-fill-color);\n",
              "  }\n",
              "\n",
              "  .colab-df-quickchart-complete:disabled,\n",
              "  .colab-df-quickchart-complete:disabled:hover {\n",
              "    background-color: var(--disabled-bg-color);\n",
              "    fill: var(--disabled-fill-color);\n",
              "    box-shadow: none;\n",
              "  }\n",
              "\n",
              "  .colab-df-spinner {\n",
              "    border: 2px solid var(--fill-color);\n",
              "    border-color: transparent;\n",
              "    border-bottom-color: var(--fill-color);\n",
              "    animation:\n",
              "      spin 1s steps(1) infinite;\n",
              "  }\n",
              "\n",
              "  @keyframes spin {\n",
              "    0% {\n",
              "      border-color: transparent;\n",
              "      border-bottom-color: var(--fill-color);\n",
              "      border-left-color: var(--fill-color);\n",
              "    }\n",
              "    20% {\n",
              "      border-color: transparent;\n",
              "      border-left-color: var(--fill-color);\n",
              "      border-top-color: var(--fill-color);\n",
              "    }\n",
              "    30% {\n",
              "      border-color: transparent;\n",
              "      border-left-color: var(--fill-color);\n",
              "      border-top-color: var(--fill-color);\n",
              "      border-right-color: var(--fill-color);\n",
              "    }\n",
              "    40% {\n",
              "      border-color: transparent;\n",
              "      border-right-color: var(--fill-color);\n",
              "      border-top-color: var(--fill-color);\n",
              "    }\n",
              "    60% {\n",
              "      border-color: transparent;\n",
              "      border-right-color: var(--fill-color);\n",
              "    }\n",
              "    80% {\n",
              "      border-color: transparent;\n",
              "      border-right-color: var(--fill-color);\n",
              "      border-bottom-color: var(--fill-color);\n",
              "    }\n",
              "    90% {\n",
              "      border-color: transparent;\n",
              "      border-bottom-color: var(--fill-color);\n",
              "    }\n",
              "  }\n",
              "</style>\n",
              "\n",
              "  <script>\n",
              "    async function quickchart(key) {\n",
              "      const quickchartButtonEl =\n",
              "        document.querySelector('#' + key + ' button');\n",
              "      quickchartButtonEl.disabled = true;  // To prevent multiple clicks.\n",
              "      quickchartButtonEl.classList.add('colab-df-spinner');\n",
              "      try {\n",
              "        const charts = await google.colab.kernel.invokeFunction(\n",
              "            'suggestCharts', [key], {});\n",
              "      } catch (error) {\n",
              "        console.error('Error during call to suggestCharts:', error);\n",
              "      }\n",
              "      quickchartButtonEl.classList.remove('colab-df-spinner');\n",
              "      quickchartButtonEl.classList.add('colab-df-quickchart-complete');\n",
              "    }\n",
              "    (() => {\n",
              "      let quickchartButtonEl =\n",
              "        document.querySelector('#df-9dbbcee0-d5db-4473-a142-af87ef5431e6 button');\n",
              "      quickchartButtonEl.style.display =\n",
              "        google.colab.kernel.accessAllowed ? 'block' : 'none';\n",
              "    })();\n",
              "  </script>\n",
              "</div>\n",
              "\n",
              "    </div>\n",
              "  </div>\n"
            ],
            "application/vnd.google.colaboratory.intrinsic+json": {
              "type": "dataframe",
              "variable_name": "vendas",
              "summary": "{\n  \"name\": \"vendas\",\n  \"rows\": 80228,\n  \"fields\": [\n    {\n      \"column\": \"idcompra\",\n      \"properties\": {\n        \"dtype\": \"number\",\n        \"std\": 144272,\n        \"min\": 0,\n        \"max\": 723410,\n        \"num_unique_values\": 55773,\n        \"samples\": [\n          301045,\n          494755,\n          145460\n        ],\n        \"semantic_type\": \"\",\n        \"description\": \"\"\n      }\n    },\n    {\n      \"column\": \"idcanalvenda\",\n      \"properties\": {\n        \"dtype\": \"category\",\n        \"num_unique_values\": 4,\n        \"samples\": [\n          \"APP\",\n          \"Aplicativo\",\n          \"Mobile\"\n        ],\n        \"semantic_type\": \"\",\n        \"description\": \"\"\n      }\n    },\n    {\n      \"column\": \"bandeira\",\n      \"properties\": {\n        \"dtype\": \"category\",\n        \"num_unique_values\": 2,\n        \"samples\": [\n          \"B\",\n          \"A\"\n        ],\n        \"semantic_type\": \"\",\n        \"description\": \"\"\n      }\n    },\n    {\n      \"column\": \"Data\",\n      \"properties\": {\n        \"dtype\": \"date\",\n        \"min\": \"2023-01-02 00:00:00\",\n        \"max\": \"2023-04-30 00:00:00\",\n        \"num_unique_values\": 119,\n        \"samples\": [\n          \"2023-03-26 00:00:00\",\n          \"2023-01-26 00:00:00\"\n        ],\n        \"semantic_type\": \"\",\n        \"description\": \"\"\n      }\n    },\n    {\n      \"column\": \"Pre\\u00e7o\",\n      \"properties\": {\n        \"dtype\": \"number\",\n        \"std\": 1059.6077212979299,\n        \"min\": 6.32,\n        \"max\": 14439.24,\n        \"num_unique_values\": 2939,\n        \"samples\": [\n          767.36,\n          100.8\n        ],\n        \"semantic_type\": \"\",\n        \"description\": \"\"\n      }\n    },\n    {\n      \"column\": \"Pre\\u00e7o_com_frete\",\n      \"properties\": {\n        \"dtype\": \"number\",\n        \"std\": 1057.5831011212529,\n        \"min\": 6.32,\n        \"max\": 14439.24,\n        \"num_unique_values\": 8406,\n        \"samples\": [\n          73.104,\n          345.4\n        ],\n        \"semantic_type\": \"\",\n        \"description\": \"\"\n      }\n    },\n    {\n      \"column\": \"Nome_Departamento\",\n      \"properties\": {\n        \"dtype\": \"category\",\n        \"num_unique_values\": 32,\n        \"samples\": [\n          \"Moda\",\n          \"Brinquedos\"\n        ],\n        \"semantic_type\": \"\",\n        \"description\": \"\"\n      }\n    },\n    {\n      \"column\": \"estado\",\n      \"properties\": {\n        \"dtype\": \"category\",\n        \"num_unique_values\": 26,\n        \"samples\": [\n          \"RJ\",\n          \"MT\"\n        ],\n        \"semantic_type\": \"\",\n        \"description\": \"\"\n      }\n    },\n    {\n      \"column\": \"cliente_Log\",\n      \"properties\": {\n        \"dtype\": \"number\",\n        \"std\": 8065,\n        \"min\": 1,\n        \"max\": 27982,\n        \"num_unique_values\": 17074,\n        \"samples\": [\n          26658,\n          12718\n        ],\n        \"semantic_type\": \"\",\n        \"description\": \"\"\n      }\n    }\n  ]\n}"
            }
          },
          "metadata": {},
          "execution_count": 3
        }
      ]
    },
    {
      "cell_type": "code",
      "source": [
        "vendas.info()"
      ],
      "metadata": {
        "colab": {
          "base_uri": "https://localhost:8080/"
        },
        "id": "Xy21UsgLs0YH",
        "outputId": "a1d4fa2c-ecb8-4377-dbfc-1591ed57cfc3"
      },
      "execution_count": null,
      "outputs": [
        {
          "output_type": "stream",
          "name": "stdout",
          "text": [
            "<class 'pandas.core.frame.DataFrame'>\n",
            "RangeIndex: 80228 entries, 0 to 80227\n",
            "Data columns (total 9 columns):\n",
            " #   Column             Non-Null Count  Dtype         \n",
            "---  ------             --------------  -----         \n",
            " 0   idcompra           80228 non-null  int64         \n",
            " 1   idcanalvenda       80228 non-null  object        \n",
            " 2   bandeira           80228 non-null  object        \n",
            " 3   Data               80228 non-null  datetime64[ns]\n",
            " 4   Preço              79926 non-null  float64       \n",
            " 5   Preço_com_frete    80228 non-null  float64       \n",
            " 6   Nome_Departamento  80228 non-null  object        \n",
            " 7   estado             79926 non-null  object        \n",
            " 8   cliente_Log        80228 non-null  int64         \n",
            "dtypes: datetime64[ns](1), float64(2), int64(2), object(4)\n",
            "memory usage: 5.5+ MB\n"
          ]
        }
      ]
    },
    {
      "cell_type": "code",
      "source": [
        "vendas.groupby(\"idcanalvenda\").idcompra.nunique()"
      ],
      "metadata": {
        "colab": {
          "base_uri": "https://localhost:8080/"
        },
        "id": "I0KwEgeVtMNL",
        "outputId": "c1f4211c-865d-4d03-d1b4-c0b9234c06c8"
      },
      "execution_count": null,
      "outputs": [
        {
          "output_type": "execute_result",
          "data": {
            "text/plain": [
              "idcanalvenda\n",
              "APP             139\n",
              "Aplicativo    21425\n",
              "Internet      24515\n",
              "Mobile        24732\n",
              "Name: idcompra, dtype: int64"
            ]
          },
          "metadata": {},
          "execution_count": 10
        }
      ]
    },
    {
      "cell_type": "code",
      "source": [
        "vendas[\"idcanalvenda\"] = vendas[\"idcanalvenda\"].str.replace(\"APP\", \"Aplicativo\")\n",
        "vendas.groupby(\"idcanalvenda\").idcompra.nunique()"
      ],
      "metadata": {
        "colab": {
          "base_uri": "https://localhost:8080/"
        },
        "id": "3Z0VmrMLvAw2",
        "outputId": "1f6ab6b1-2da9-4a09-ef02-6ad8f1fd648b"
      },
      "execution_count": null,
      "outputs": [
        {
          "output_type": "execute_result",
          "data": {
            "text/plain": [
              "idcanalvenda\n",
              "Aplicativo    21539\n",
              "Internet      24515\n",
              "Mobile        24732\n",
              "Name: idcompra, dtype: int64"
            ]
          },
          "metadata": {},
          "execution_count": 14
        }
      ]
    },
    {
      "cell_type": "code",
      "source": [
        "vendas.groupby(\"bandeira\").idcompra.nunique()"
      ],
      "metadata": {
        "colab": {
          "base_uri": "https://localhost:8080/"
        },
        "id": "bpmFQSlBvuVU",
        "outputId": "f7006a25-db0f-4678-8e4d-d4171838e09e"
      },
      "execution_count": null,
      "outputs": [
        {
          "output_type": "execute_result",
          "data": {
            "text/plain": [
              "bandeira\n",
              "A    27679\n",
              "B    38483\n",
              "Name: idcompra, dtype: int64"
            ]
          },
          "metadata": {},
          "execution_count": 15
        }
      ]
    },
    {
      "cell_type": "code",
      "source": [
        "vendas.groupby(\"Nome_Departamento\").idcompra.nunique()"
      ],
      "metadata": {
        "colab": {
          "base_uri": "https://localhost:8080/"
        },
        "id": "_ZcEuMm4wZG0",
        "outputId": "342bdbc8-28a2-4ff1-d70b-5b8f40e7079c"
      },
      "execution_count": null,
      "outputs": [
        {
          "output_type": "execute_result",
          "data": {
            "text/plain": [
              "Nome_Departamento\n",
              "Acessorios e Inovacoes     3548\n",
              "Alimentos                     2\n",
              "Ar e Ventilacao             951\n",
              "Audio                      1794\n",
              "Automotivo                  895\n",
              "Bebes                      4531\n",
              "Beleza e Saude             4626\n",
              "Brinquedos                 1320\n",
              "Cama, Mesa e Banho          153\n",
              "Casa e Construcao           263\n",
              "Cine e Foto                  11\n",
              "Decoracao                   134\n",
              "Eletrodomesticos          10501\n",
              "Eletroportateis            9593\n",
              "Esporte e Lazer             531\n",
              "Ferramentas                1111\n",
              "Games                       764\n",
              "Informatica                5290\n",
              "Instrumentos Musicais         1\n",
              "Linha Industrial             86\n",
              "Malas e Mochilas            114\n",
              "Moda                          3\n",
              "Moveis                     4175\n",
              "Perfumaria                  624\n",
              "Pet Shop                     43\n",
              "Produtos de Limpeza         713\n",
              "Relogios                    134\n",
              "TV e Video                    5\n",
              "TVs e Acessorios           5326\n",
              "Tablets                    1770\n",
              "Telefones e Celulares     14495\n",
              "Utilidades Domesticas      3728\n",
              "Name: idcompra, dtype: int64"
            ]
          },
          "metadata": {},
          "execution_count": 16
        }
      ]
    },
    {
      "cell_type": "code",
      "source": [
        "vendas.groupby(\"estado\").idcompra.nunique()"
      ],
      "metadata": {
        "colab": {
          "base_uri": "https://localhost:8080/"
        },
        "id": "0H91pESRwZRg",
        "outputId": "94b3e917-dd79-47cc-c172-bd05fee8779f"
      },
      "execution_count": null,
      "outputs": [
        {
          "output_type": "execute_result",
          "data": {
            "text/plain": [
              "estado\n",
              "AC       10\n",
              "AL      461\n",
              "AM       15\n",
              "AP        3\n",
              "BA     2028\n",
              "CE     1007\n",
              "DF     1902\n",
              "ES     1254\n",
              "GO     1603\n",
              "MA      129\n",
              "MG    10538\n",
              "MT      510\n",
              "PA      108\n",
              "PB      536\n",
              "PE     1632\n",
              "PI      247\n",
              "PR     2754\n",
              "RJ    16213\n",
              "RN      463\n",
              "RO       15\n",
              "RR        7\n",
              "RS     4099\n",
              "SC     1932\n",
              "SE      340\n",
              "SP    25962\n",
              "TO      101\n",
              "Name: idcompra, dtype: int64"
            ]
          },
          "metadata": {},
          "execution_count": 17
        }
      ]
    },
    {
      "cell_type": "code",
      "source": [
        "vendas[\"Nome_Departamento\"] = vendas[\"Nome_Departamento\"].str.replace(\" \", \"_\")"
      ],
      "metadata": {
        "id": "9iSLdUR9wZbj"
      },
      "execution_count": null,
      "outputs": []
    },
    {
      "cell_type": "code",
      "source": [
        "vendas.groupby(\"Nome_Departamento\").idcompra.nunique()"
      ],
      "metadata": {
        "colab": {
          "base_uri": "https://localhost:8080/"
        },
        "id": "qg_RAHzPw7mU",
        "outputId": "7007dbea-f58a-490e-b59e-bf66c12bd70b"
      },
      "execution_count": null,
      "outputs": [
        {
          "output_type": "execute_result",
          "data": {
            "text/plain": [
              "Nome_Departamento\n",
              "Acessorios_e_Inovacoes     3548\n",
              "Alimentos                     2\n",
              "Ar_e_Ventilacao             951\n",
              "Audio                      1794\n",
              "Automotivo                  895\n",
              "Bebes                      4531\n",
              "Beleza_e_Saude             4626\n",
              "Brinquedos                 1320\n",
              "Cama,_Mesa_e_Banho          153\n",
              "Casa_e_Construcao           263\n",
              "Cine_e_Foto                  11\n",
              "Decoracao                   134\n",
              "Eletrodomesticos          10501\n",
              "Eletroportateis            9593\n",
              "Esporte_e_Lazer             531\n",
              "Ferramentas                1111\n",
              "Games                       764\n",
              "Informatica                5290\n",
              "Instrumentos_Musicais         1\n",
              "Linha_Industrial             86\n",
              "Malas_e_Mochilas            114\n",
              "Moda                          3\n",
              "Moveis                     4175\n",
              "Perfumaria                  624\n",
              "Pet_Shop                     43\n",
              "Produtos_de_Limpeza         713\n",
              "Relogios                    134\n",
              "TV_e_Video                    5\n",
              "TVs_e_Acessorios           5326\n",
              "Tablets                    1770\n",
              "Telefones_e_Celulares     14495\n",
              "Utilidades_Domesticas      3728\n",
              "Name: idcompra, dtype: int64"
            ]
          },
          "metadata": {},
          "execution_count": 20
        }
      ]
    },
    {
      "cell_type": "code",
      "source": [],
      "metadata": {
        "id": "6xIl-b6fxOKw"
      },
      "execution_count": null,
      "outputs": []
    }
  ]
}